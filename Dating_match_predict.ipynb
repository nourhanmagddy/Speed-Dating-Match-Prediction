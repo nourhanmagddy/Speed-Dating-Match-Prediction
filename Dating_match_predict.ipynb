{
  "cells": [
    {
      "cell_type": "markdown",
      "metadata": {
        "id": "o6hRllFr026M"
      },
      "source": [
        "#Speed Dating Match Prediction\n"
      ],
      "id": "o6hRllFr026M"
    },
    {
      "cell_type": "markdown",
      "source": [
        "##Problem Formulation\n",
        "We are going to predict the outcome of a specific speed dating session based on the profile of two people, so we can implement a recommendation system to better match people in speed dating events.\n",
        "\n",
        "The problem is the dataset has a lot of missing values and highly unbalanced(mostly unmatched)."
      ],
      "metadata": {
        "id": "NB-pB5dwLx7d"
      },
      "id": "NB-pB5dwLx7d"
    },
    {
      "cell_type": "markdown",
      "metadata": {
        "id": "EgY4rguU-BLB"
      },
      "source": [
        "## Data Loading and Exploration"
      ],
      "id": "EgY4rguU-BLB"
    },
    {
      "cell_type": "code",
      "execution_count": 1,
      "metadata": {
        "colab": {
          "base_uri": "https://localhost:8080/"
        },
        "id": "KAywUUUeOaAx",
        "outputId": "65e9fd6a-5991-4c1d-a5b7-32316217d852"
      },
      "outputs": [
        {
          "output_type": "stream",
          "name": "stdout",
          "text": [
            "Drive already mounted at /content/drive; to attempt to forcibly remount, call drive.mount(\"/content/drive\", force_remount=True).\n"
          ]
        }
      ],
      "source": [
        "from google.colab import drive\n",
        "drive.mount('/content/drive')"
      ],
      "id": "KAywUUUeOaAx"
    },
    {
      "cell_type": "code",
      "execution_count": 2,
      "metadata": {
        "id": "f8e4f850"
      },
      "outputs": [],
      "source": [
        "#import libiraries\n",
        "import pandas as pd\n",
        "import numpy as np\n",
        "from sklearn.metrics import confusion_matrix, classification_report\n",
        "from sklearn.compose import ColumnTransformer\n",
        "from sklearn.datasets import fetch_openml\n",
        "from sklearn.pipeline import Pipeline\n",
        "from sklearn.impute import SimpleImputer\n",
        "from sklearn import feature_selection\n",
        "from sklearn.preprocessing import StandardScaler, OneHotEncoder\n",
        "from sklearn.ensemble import RandomForestClassifier\n",
        "from sklearn.model_selection import train_test_split, GridSearchCV\n",
        "from xgboost.sklearn import XGBClassifier\n",
        "from sklearn.feature_selection import SelectKBest, chi2, SelectFromModel\n",
        "from sklearn.feature_selection import f_classif\n",
        "from sklearn import linear_model, preprocessing\n",
        "\n"
      ],
      "id": "f8e4f850"
    },
    {
      "cell_type": "code",
      "execution_count": 3,
      "metadata": {
        "id": "1d85e7e7"
      },
      "outputs": [],
      "source": [
        "#read train and test data\n",
        "data=pd.read_csv('/content/drive/MyDrive/train.csv')\n",
        "test_=pd.read_csv('/content/drive/MyDrive/test.csv')"
      ],
      "id": "1d85e7e7"
    },
    {
      "cell_type": "code",
      "execution_count": 4,
      "metadata": {
        "colab": {
          "base_uri": "https://localhost:8080/",
          "height": 487
        },
        "id": "b_zuEvtnPgA2",
        "outputId": "5667de8d-5ae2-4bde-adc7-1d99ff2df2c4"
      },
      "outputs": [
        {
          "output_type": "execute_result",
          "data": {
            "text/html": [
              "\n",
              "  <div id=\"df-4efae3e9-6242-4f28-a017-f0c6c55df12b\">\n",
              "    <div class=\"colab-df-container\">\n",
              "      <div>\n",
              "<style scoped>\n",
              "    .dataframe tbody tr th:only-of-type {\n",
              "        vertical-align: middle;\n",
              "    }\n",
              "\n",
              "    .dataframe tbody tr th {\n",
              "        vertical-align: top;\n",
              "    }\n",
              "\n",
              "    .dataframe thead th {\n",
              "        text-align: right;\n",
              "    }\n",
              "</style>\n",
              "<table border=\"1\" class=\"dataframe\">\n",
              "  <thead>\n",
              "    <tr style=\"text-align: right;\">\n",
              "      <th></th>\n",
              "      <th>gender</th>\n",
              "      <th>idg</th>\n",
              "      <th>condtn</th>\n",
              "      <th>wave</th>\n",
              "      <th>round</th>\n",
              "      <th>position</th>\n",
              "      <th>positin1</th>\n",
              "      <th>order</th>\n",
              "      <th>partner</th>\n",
              "      <th>pid</th>\n",
              "      <th>...</th>\n",
              "      <th>sinc3_3</th>\n",
              "      <th>intel3_3</th>\n",
              "      <th>fun3_3</th>\n",
              "      <th>amb3_3</th>\n",
              "      <th>attr5_3</th>\n",
              "      <th>sinc5_3</th>\n",
              "      <th>intel5_3</th>\n",
              "      <th>fun5_3</th>\n",
              "      <th>amb5_3</th>\n",
              "      <th>id</th>\n",
              "    </tr>\n",
              "  </thead>\n",
              "  <tbody>\n",
              "    <tr>\n",
              "      <th>0</th>\n",
              "      <td>0</td>\n",
              "      <td>3</td>\n",
              "      <td>2</td>\n",
              "      <td>14</td>\n",
              "      <td>18</td>\n",
              "      <td>2</td>\n",
              "      <td>2.0</td>\n",
              "      <td>14</td>\n",
              "      <td>12</td>\n",
              "      <td>372.0</td>\n",
              "      <td>...</td>\n",
              "      <td>NaN</td>\n",
              "      <td>NaN</td>\n",
              "      <td>NaN</td>\n",
              "      <td>NaN</td>\n",
              "      <td>NaN</td>\n",
              "      <td>NaN</td>\n",
              "      <td>NaN</td>\n",
              "      <td>NaN</td>\n",
              "      <td>NaN</td>\n",
              "      <td>2583</td>\n",
              "    </tr>\n",
              "    <tr>\n",
              "      <th>1</th>\n",
              "      <td>1</td>\n",
              "      <td>14</td>\n",
              "      <td>1</td>\n",
              "      <td>3</td>\n",
              "      <td>10</td>\n",
              "      <td>2</td>\n",
              "      <td>NaN</td>\n",
              "      <td>8</td>\n",
              "      <td>8</td>\n",
              "      <td>63.0</td>\n",
              "      <td>...</td>\n",
              "      <td>8.0</td>\n",
              "      <td>8.0</td>\n",
              "      <td>7.0</td>\n",
              "      <td>8.0</td>\n",
              "      <td>NaN</td>\n",
              "      <td>NaN</td>\n",
              "      <td>NaN</td>\n",
              "      <td>NaN</td>\n",
              "      <td>NaN</td>\n",
              "      <td>6830</td>\n",
              "    </tr>\n",
              "    <tr>\n",
              "      <th>2</th>\n",
              "      <td>1</td>\n",
              "      <td>14</td>\n",
              "      <td>1</td>\n",
              "      <td>13</td>\n",
              "      <td>10</td>\n",
              "      <td>8</td>\n",
              "      <td>8.0</td>\n",
              "      <td>10</td>\n",
              "      <td>10</td>\n",
              "      <td>331.0</td>\n",
              "      <td>...</td>\n",
              "      <td>NaN</td>\n",
              "      <td>NaN</td>\n",
              "      <td>NaN</td>\n",
              "      <td>NaN</td>\n",
              "      <td>NaN</td>\n",
              "      <td>NaN</td>\n",
              "      <td>NaN</td>\n",
              "      <td>NaN</td>\n",
              "      <td>NaN</td>\n",
              "      <td>4840</td>\n",
              "    </tr>\n",
              "    <tr>\n",
              "      <th>3</th>\n",
              "      <td>1</td>\n",
              "      <td>38</td>\n",
              "      <td>2</td>\n",
              "      <td>9</td>\n",
              "      <td>20</td>\n",
              "      <td>18</td>\n",
              "      <td>13.0</td>\n",
              "      <td>6</td>\n",
              "      <td>7</td>\n",
              "      <td>200.0</td>\n",
              "      <td>...</td>\n",
              "      <td>9.0</td>\n",
              "      <td>8.0</td>\n",
              "      <td>8.0</td>\n",
              "      <td>6.0</td>\n",
              "      <td>NaN</td>\n",
              "      <td>NaN</td>\n",
              "      <td>NaN</td>\n",
              "      <td>NaN</td>\n",
              "      <td>NaN</td>\n",
              "      <td>5508</td>\n",
              "    </tr>\n",
              "    <tr>\n",
              "      <th>4</th>\n",
              "      <td>1</td>\n",
              "      <td>24</td>\n",
              "      <td>2</td>\n",
              "      <td>14</td>\n",
              "      <td>20</td>\n",
              "      <td>6</td>\n",
              "      <td>6.0</td>\n",
              "      <td>20</td>\n",
              "      <td>17</td>\n",
              "      <td>357.0</td>\n",
              "      <td>...</td>\n",
              "      <td>NaN</td>\n",
              "      <td>NaN</td>\n",
              "      <td>NaN</td>\n",
              "      <td>NaN</td>\n",
              "      <td>NaN</td>\n",
              "      <td>NaN</td>\n",
              "      <td>NaN</td>\n",
              "      <td>NaN</td>\n",
              "      <td>NaN</td>\n",
              "      <td>4828</td>\n",
              "    </tr>\n",
              "    <tr>\n",
              "      <th>...</th>\n",
              "      <td>...</td>\n",
              "      <td>...</td>\n",
              "      <td>...</td>\n",
              "      <td>...</td>\n",
              "      <td>...</td>\n",
              "      <td>...</td>\n",
              "      <td>...</td>\n",
              "      <td>...</td>\n",
              "      <td>...</td>\n",
              "      <td>...</td>\n",
              "      <td>...</td>\n",
              "      <td>...</td>\n",
              "      <td>...</td>\n",
              "      <td>...</td>\n",
              "      <td>...</td>\n",
              "      <td>...</td>\n",
              "      <td>...</td>\n",
              "      <td>...</td>\n",
              "      <td>...</td>\n",
              "      <td>...</td>\n",
              "      <td>...</td>\n",
              "    </tr>\n",
              "    <tr>\n",
              "      <th>5904</th>\n",
              "      <td>0</td>\n",
              "      <td>1</td>\n",
              "      <td>2</td>\n",
              "      <td>9</td>\n",
              "      <td>20</td>\n",
              "      <td>2</td>\n",
              "      <td>2.0</td>\n",
              "      <td>18</td>\n",
              "      <td>1</td>\n",
              "      <td>214.0</td>\n",
              "      <td>...</td>\n",
              "      <td>12.0</td>\n",
              "      <td>12.0</td>\n",
              "      <td>9.0</td>\n",
              "      <td>12.0</td>\n",
              "      <td>NaN</td>\n",
              "      <td>NaN</td>\n",
              "      <td>NaN</td>\n",
              "      <td>NaN</td>\n",
              "      <td>NaN</td>\n",
              "      <td>3390</td>\n",
              "    </tr>\n",
              "    <tr>\n",
              "      <th>5905</th>\n",
              "      <td>1</td>\n",
              "      <td>24</td>\n",
              "      <td>2</td>\n",
              "      <td>9</td>\n",
              "      <td>20</td>\n",
              "      <td>19</td>\n",
              "      <td>15.0</td>\n",
              "      <td>5</td>\n",
              "      <td>6</td>\n",
              "      <td>199.0</td>\n",
              "      <td>...</td>\n",
              "      <td>NaN</td>\n",
              "      <td>NaN</td>\n",
              "      <td>NaN</td>\n",
              "      <td>NaN</td>\n",
              "      <td>NaN</td>\n",
              "      <td>NaN</td>\n",
              "      <td>NaN</td>\n",
              "      <td>NaN</td>\n",
              "      <td>NaN</td>\n",
              "      <td>4130</td>\n",
              "    </tr>\n",
              "    <tr>\n",
              "      <th>5906</th>\n",
              "      <td>0</td>\n",
              "      <td>13</td>\n",
              "      <td>2</td>\n",
              "      <td>11</td>\n",
              "      <td>21</td>\n",
              "      <td>5</td>\n",
              "      <td>5.0</td>\n",
              "      <td>3</td>\n",
              "      <td>18</td>\n",
              "      <td>290.0</td>\n",
              "      <td>...</td>\n",
              "      <td>NaN</td>\n",
              "      <td>NaN</td>\n",
              "      <td>NaN</td>\n",
              "      <td>NaN</td>\n",
              "      <td>NaN</td>\n",
              "      <td>NaN</td>\n",
              "      <td>NaN</td>\n",
              "      <td>NaN</td>\n",
              "      <td>NaN</td>\n",
              "      <td>1178</td>\n",
              "    </tr>\n",
              "    <tr>\n",
              "      <th>5907</th>\n",
              "      <td>1</td>\n",
              "      <td>10</td>\n",
              "      <td>2</td>\n",
              "      <td>7</td>\n",
              "      <td>16</td>\n",
              "      <td>6</td>\n",
              "      <td>14.0</td>\n",
              "      <td>9</td>\n",
              "      <td>10</td>\n",
              "      <td>151.0</td>\n",
              "      <td>...</td>\n",
              "      <td>NaN</td>\n",
              "      <td>NaN</td>\n",
              "      <td>NaN</td>\n",
              "      <td>NaN</td>\n",
              "      <td>NaN</td>\n",
              "      <td>NaN</td>\n",
              "      <td>NaN</td>\n",
              "      <td>NaN</td>\n",
              "      <td>NaN</td>\n",
              "      <td>5016</td>\n",
              "    </tr>\n",
              "    <tr>\n",
              "      <th>5908</th>\n",
              "      <td>0</td>\n",
              "      <td>7</td>\n",
              "      <td>2</td>\n",
              "      <td>21</td>\n",
              "      <td>22</td>\n",
              "      <td>7</td>\n",
              "      <td>7.0</td>\n",
              "      <td>2</td>\n",
              "      <td>12</td>\n",
              "      <td>542.0</td>\n",
              "      <td>...</td>\n",
              "      <td>NaN</td>\n",
              "      <td>NaN</td>\n",
              "      <td>NaN</td>\n",
              "      <td>NaN</td>\n",
              "      <td>NaN</td>\n",
              "      <td>NaN</td>\n",
              "      <td>NaN</td>\n",
              "      <td>NaN</td>\n",
              "      <td>NaN</td>\n",
              "      <td>8149</td>\n",
              "    </tr>\n",
              "  </tbody>\n",
              "</table>\n",
              "<p>5909 rows × 192 columns</p>\n",
              "</div>\n",
              "      <button class=\"colab-df-convert\" onclick=\"convertToInteractive('df-4efae3e9-6242-4f28-a017-f0c6c55df12b')\"\n",
              "              title=\"Convert this dataframe to an interactive table.\"\n",
              "              style=\"display:none;\">\n",
              "        \n",
              "  <svg xmlns=\"http://www.w3.org/2000/svg\" height=\"24px\"viewBox=\"0 0 24 24\"\n",
              "       width=\"24px\">\n",
              "    <path d=\"M0 0h24v24H0V0z\" fill=\"none\"/>\n",
              "    <path d=\"M18.56 5.44l.94 2.06.94-2.06 2.06-.94-2.06-.94-.94-2.06-.94 2.06-2.06.94zm-11 1L8.5 8.5l.94-2.06 2.06-.94-2.06-.94L8.5 2.5l-.94 2.06-2.06.94zm10 10l.94 2.06.94-2.06 2.06-.94-2.06-.94-.94-2.06-.94 2.06-2.06.94z\"/><path d=\"M17.41 7.96l-1.37-1.37c-.4-.4-.92-.59-1.43-.59-.52 0-1.04.2-1.43.59L10.3 9.45l-7.72 7.72c-.78.78-.78 2.05 0 2.83L4 21.41c.39.39.9.59 1.41.59.51 0 1.02-.2 1.41-.59l7.78-7.78 2.81-2.81c.8-.78.8-2.07 0-2.86zM5.41 20L4 18.59l7.72-7.72 1.47 1.35L5.41 20z\"/>\n",
              "  </svg>\n",
              "      </button>\n",
              "      \n",
              "  <style>\n",
              "    .colab-df-container {\n",
              "      display:flex;\n",
              "      flex-wrap:wrap;\n",
              "      gap: 12px;\n",
              "    }\n",
              "\n",
              "    .colab-df-convert {\n",
              "      background-color: #E8F0FE;\n",
              "      border: none;\n",
              "      border-radius: 50%;\n",
              "      cursor: pointer;\n",
              "      display: none;\n",
              "      fill: #1967D2;\n",
              "      height: 32px;\n",
              "      padding: 0 0 0 0;\n",
              "      width: 32px;\n",
              "    }\n",
              "\n",
              "    .colab-df-convert:hover {\n",
              "      background-color: #E2EBFA;\n",
              "      box-shadow: 0px 1px 2px rgba(60, 64, 67, 0.3), 0px 1px 3px 1px rgba(60, 64, 67, 0.15);\n",
              "      fill: #174EA6;\n",
              "    }\n",
              "\n",
              "    [theme=dark] .colab-df-convert {\n",
              "      background-color: #3B4455;\n",
              "      fill: #D2E3FC;\n",
              "    }\n",
              "\n",
              "    [theme=dark] .colab-df-convert:hover {\n",
              "      background-color: #434B5C;\n",
              "      box-shadow: 0px 1px 3px 1px rgba(0, 0, 0, 0.15);\n",
              "      filter: drop-shadow(0px 1px 2px rgba(0, 0, 0, 0.3));\n",
              "      fill: #FFFFFF;\n",
              "    }\n",
              "  </style>\n",
              "\n",
              "      <script>\n",
              "        const buttonEl =\n",
              "          document.querySelector('#df-4efae3e9-6242-4f28-a017-f0c6c55df12b button.colab-df-convert');\n",
              "        buttonEl.style.display =\n",
              "          google.colab.kernel.accessAllowed ? 'block' : 'none';\n",
              "\n",
              "        async function convertToInteractive(key) {\n",
              "          const element = document.querySelector('#df-4efae3e9-6242-4f28-a017-f0c6c55df12b');\n",
              "          const dataTable =\n",
              "            await google.colab.kernel.invokeFunction('convertToInteractive',\n",
              "                                                     [key], {});\n",
              "          if (!dataTable) return;\n",
              "\n",
              "          const docLinkHtml = 'Like what you see? Visit the ' +\n",
              "            '<a target=\"_blank\" href=https://colab.research.google.com/notebooks/data_table.ipynb>data table notebook</a>'\n",
              "            + ' to learn more about interactive tables.';\n",
              "          element.innerHTML = '';\n",
              "          dataTable['output_type'] = 'display_data';\n",
              "          await google.colab.output.renderOutput(dataTable, element);\n",
              "          const docLink = document.createElement('div');\n",
              "          docLink.innerHTML = docLinkHtml;\n",
              "          element.appendChild(docLink);\n",
              "        }\n",
              "      </script>\n",
              "    </div>\n",
              "  </div>\n",
              "  "
            ],
            "text/plain": [
              "      gender  idg  condtn  wave  round  position  positin1  order  partner  \\\n",
              "0          0    3       2    14     18         2       2.0     14       12   \n",
              "1          1   14       1     3     10         2       NaN      8        8   \n",
              "2          1   14       1    13     10         8       8.0     10       10   \n",
              "3          1   38       2     9     20        18      13.0      6        7   \n",
              "4          1   24       2    14     20         6       6.0     20       17   \n",
              "...      ...  ...     ...   ...    ...       ...       ...    ...      ...   \n",
              "5904       0    1       2     9     20         2       2.0     18        1   \n",
              "5905       1   24       2     9     20        19      15.0      5        6   \n",
              "5906       0   13       2    11     21         5       5.0      3       18   \n",
              "5907       1   10       2     7     16         6      14.0      9       10   \n",
              "5908       0    7       2    21     22         7       7.0      2       12   \n",
              "\n",
              "        pid  ...  sinc3_3  intel3_3  fun3_3  amb3_3  attr5_3  sinc5_3  \\\n",
              "0     372.0  ...      NaN       NaN     NaN     NaN      NaN      NaN   \n",
              "1      63.0  ...      8.0       8.0     7.0     8.0      NaN      NaN   \n",
              "2     331.0  ...      NaN       NaN     NaN     NaN      NaN      NaN   \n",
              "3     200.0  ...      9.0       8.0     8.0     6.0      NaN      NaN   \n",
              "4     357.0  ...      NaN       NaN     NaN     NaN      NaN      NaN   \n",
              "...     ...  ...      ...       ...     ...     ...      ...      ...   \n",
              "5904  214.0  ...     12.0      12.0     9.0    12.0      NaN      NaN   \n",
              "5905  199.0  ...      NaN       NaN     NaN     NaN      NaN      NaN   \n",
              "5906  290.0  ...      NaN       NaN     NaN     NaN      NaN      NaN   \n",
              "5907  151.0  ...      NaN       NaN     NaN     NaN      NaN      NaN   \n",
              "5908  542.0  ...      NaN       NaN     NaN     NaN      NaN      NaN   \n",
              "\n",
              "      intel5_3  fun5_3  amb5_3    id  \n",
              "0          NaN     NaN     NaN  2583  \n",
              "1          NaN     NaN     NaN  6830  \n",
              "2          NaN     NaN     NaN  4840  \n",
              "3          NaN     NaN     NaN  5508  \n",
              "4          NaN     NaN     NaN  4828  \n",
              "...        ...     ...     ...   ...  \n",
              "5904       NaN     NaN     NaN  3390  \n",
              "5905       NaN     NaN     NaN  4130  \n",
              "5906       NaN     NaN     NaN  1178  \n",
              "5907       NaN     NaN     NaN  5016  \n",
              "5908       NaN     NaN     NaN  8149  \n",
              "\n",
              "[5909 rows x 192 columns]"
            ]
          },
          "metadata": {},
          "execution_count": 4
        }
      ],
      "source": [
        "#display train data\n",
        "data"
      ],
      "id": "b_zuEvtnPgA2"
    },
    {
      "cell_type": "code",
      "execution_count": 5,
      "metadata": {
        "colab": {
          "base_uri": "https://localhost:8080/",
          "height": 487
        },
        "id": "-RokU6DOPib2",
        "outputId": "7bdf0bf3-2efd-4a03-9c5d-dcbe63b92872"
      },
      "outputs": [
        {
          "output_type": "execute_result",
          "data": {
            "text/html": [
              "\n",
              "  <div id=\"df-f4b9db78-a1e0-4b3f-8bbb-6d6fb999dead\">\n",
              "    <div class=\"colab-df-container\">\n",
              "      <div>\n",
              "<style scoped>\n",
              "    .dataframe tbody tr th:only-of-type {\n",
              "        vertical-align: middle;\n",
              "    }\n",
              "\n",
              "    .dataframe tbody tr th {\n",
              "        vertical-align: top;\n",
              "    }\n",
              "\n",
              "    .dataframe thead th {\n",
              "        text-align: right;\n",
              "    }\n",
              "</style>\n",
              "<table border=\"1\" class=\"dataframe\">\n",
              "  <thead>\n",
              "    <tr style=\"text-align: right;\">\n",
              "      <th></th>\n",
              "      <th>gender</th>\n",
              "      <th>idg</th>\n",
              "      <th>condtn</th>\n",
              "      <th>wave</th>\n",
              "      <th>round</th>\n",
              "      <th>position</th>\n",
              "      <th>positin1</th>\n",
              "      <th>order</th>\n",
              "      <th>partner</th>\n",
              "      <th>pid</th>\n",
              "      <th>...</th>\n",
              "      <th>sinc3_3</th>\n",
              "      <th>intel3_3</th>\n",
              "      <th>fun3_3</th>\n",
              "      <th>amb3_3</th>\n",
              "      <th>attr5_3</th>\n",
              "      <th>sinc5_3</th>\n",
              "      <th>intel5_3</th>\n",
              "      <th>fun5_3</th>\n",
              "      <th>amb5_3</th>\n",
              "      <th>id</th>\n",
              "    </tr>\n",
              "  </thead>\n",
              "  <tbody>\n",
              "    <tr>\n",
              "      <th>0</th>\n",
              "      <td>0</td>\n",
              "      <td>5</td>\n",
              "      <td>2</td>\n",
              "      <td>2</td>\n",
              "      <td>16</td>\n",
              "      <td>3</td>\n",
              "      <td>NaN</td>\n",
              "      <td>13</td>\n",
              "      <td>13</td>\n",
              "      <td>52.0</td>\n",
              "      <td>...</td>\n",
              "      <td>7.0</td>\n",
              "      <td>8.0</td>\n",
              "      <td>6.0</td>\n",
              "      <td>8.0</td>\n",
              "      <td>NaN</td>\n",
              "      <td>NaN</td>\n",
              "      <td>NaN</td>\n",
              "      <td>NaN</td>\n",
              "      <td>NaN</td>\n",
              "      <td>934</td>\n",
              "    </tr>\n",
              "    <tr>\n",
              "      <th>1</th>\n",
              "      <td>0</td>\n",
              "      <td>33</td>\n",
              "      <td>2</td>\n",
              "      <td>14</td>\n",
              "      <td>18</td>\n",
              "      <td>6</td>\n",
              "      <td>6.0</td>\n",
              "      <td>4</td>\n",
              "      <td>8</td>\n",
              "      <td>368.0</td>\n",
              "      <td>...</td>\n",
              "      <td>8.0</td>\n",
              "      <td>7.0</td>\n",
              "      <td>7.0</td>\n",
              "      <td>8.0</td>\n",
              "      <td>6.0</td>\n",
              "      <td>7.0</td>\n",
              "      <td>6.0</td>\n",
              "      <td>5.0</td>\n",
              "      <td>5.0</td>\n",
              "      <td>6539</td>\n",
              "    </tr>\n",
              "    <tr>\n",
              "      <th>2</th>\n",
              "      <td>1</td>\n",
              "      <td>6</td>\n",
              "      <td>2</td>\n",
              "      <td>9</td>\n",
              "      <td>20</td>\n",
              "      <td>10</td>\n",
              "      <td>16.0</td>\n",
              "      <td>15</td>\n",
              "      <td>19</td>\n",
              "      <td>212.0</td>\n",
              "      <td>...</td>\n",
              "      <td>NaN</td>\n",
              "      <td>NaN</td>\n",
              "      <td>NaN</td>\n",
              "      <td>NaN</td>\n",
              "      <td>NaN</td>\n",
              "      <td>NaN</td>\n",
              "      <td>NaN</td>\n",
              "      <td>NaN</td>\n",
              "      <td>NaN</td>\n",
              "      <td>6757</td>\n",
              "    </tr>\n",
              "    <tr>\n",
              "      <th>3</th>\n",
              "      <td>1</td>\n",
              "      <td>26</td>\n",
              "      <td>2</td>\n",
              "      <td>2</td>\n",
              "      <td>19</td>\n",
              "      <td>15</td>\n",
              "      <td>NaN</td>\n",
              "      <td>8</td>\n",
              "      <td>10</td>\n",
              "      <td>30.0</td>\n",
              "      <td>...</td>\n",
              "      <td>NaN</td>\n",
              "      <td>NaN</td>\n",
              "      <td>NaN</td>\n",
              "      <td>NaN</td>\n",
              "      <td>NaN</td>\n",
              "      <td>NaN</td>\n",
              "      <td>NaN</td>\n",
              "      <td>NaN</td>\n",
              "      <td>NaN</td>\n",
              "      <td>2275</td>\n",
              "    </tr>\n",
              "    <tr>\n",
              "      <th>4</th>\n",
              "      <td>0</td>\n",
              "      <td>29</td>\n",
              "      <td>2</td>\n",
              "      <td>7</td>\n",
              "      <td>16</td>\n",
              "      <td>7</td>\n",
              "      <td>7.0</td>\n",
              "      <td>10</td>\n",
              "      <td>5</td>\n",
              "      <td>162.0</td>\n",
              "      <td>...</td>\n",
              "      <td>NaN</td>\n",
              "      <td>NaN</td>\n",
              "      <td>NaN</td>\n",
              "      <td>NaN</td>\n",
              "      <td>NaN</td>\n",
              "      <td>NaN</td>\n",
              "      <td>NaN</td>\n",
              "      <td>NaN</td>\n",
              "      <td>NaN</td>\n",
              "      <td>1052</td>\n",
              "    </tr>\n",
              "    <tr>\n",
              "      <th>...</th>\n",
              "      <td>...</td>\n",
              "      <td>...</td>\n",
              "      <td>...</td>\n",
              "      <td>...</td>\n",
              "      <td>...</td>\n",
              "      <td>...</td>\n",
              "      <td>...</td>\n",
              "      <td>...</td>\n",
              "      <td>...</td>\n",
              "      <td>...</td>\n",
              "      <td>...</td>\n",
              "      <td>...</td>\n",
              "      <td>...</td>\n",
              "      <td>...</td>\n",
              "      <td>...</td>\n",
              "      <td>...</td>\n",
              "      <td>...</td>\n",
              "      <td>...</td>\n",
              "      <td>...</td>\n",
              "      <td>...</td>\n",
              "      <td>...</td>\n",
              "    </tr>\n",
              "    <tr>\n",
              "      <th>2464</th>\n",
              "      <td>0</td>\n",
              "      <td>23</td>\n",
              "      <td>2</td>\n",
              "      <td>15</td>\n",
              "      <td>19</td>\n",
              "      <td>18</td>\n",
              "      <td>18.0</td>\n",
              "      <td>14</td>\n",
              "      <td>11</td>\n",
              "      <td>407.0</td>\n",
              "      <td>...</td>\n",
              "      <td>NaN</td>\n",
              "      <td>NaN</td>\n",
              "      <td>NaN</td>\n",
              "      <td>NaN</td>\n",
              "      <td>NaN</td>\n",
              "      <td>NaN</td>\n",
              "      <td>NaN</td>\n",
              "      <td>NaN</td>\n",
              "      <td>NaN</td>\n",
              "      <td>7982</td>\n",
              "    </tr>\n",
              "    <tr>\n",
              "      <th>2465</th>\n",
              "      <td>0</td>\n",
              "      <td>5</td>\n",
              "      <td>1</td>\n",
              "      <td>13</td>\n",
              "      <td>9</td>\n",
              "      <td>4</td>\n",
              "      <td>4.0</td>\n",
              "      <td>4</td>\n",
              "      <td>8</td>\n",
              "      <td>339.0</td>\n",
              "      <td>...</td>\n",
              "      <td>NaN</td>\n",
              "      <td>NaN</td>\n",
              "      <td>NaN</td>\n",
              "      <td>NaN</td>\n",
              "      <td>NaN</td>\n",
              "      <td>NaN</td>\n",
              "      <td>NaN</td>\n",
              "      <td>NaN</td>\n",
              "      <td>NaN</td>\n",
              "      <td>7299</td>\n",
              "    </tr>\n",
              "    <tr>\n",
              "      <th>2466</th>\n",
              "      <td>1</td>\n",
              "      <td>26</td>\n",
              "      <td>2</td>\n",
              "      <td>2</td>\n",
              "      <td>19</td>\n",
              "      <td>3</td>\n",
              "      <td>NaN</td>\n",
              "      <td>15</td>\n",
              "      <td>3</td>\n",
              "      <td>23.0</td>\n",
              "      <td>...</td>\n",
              "      <td>NaN</td>\n",
              "      <td>NaN</td>\n",
              "      <td>NaN</td>\n",
              "      <td>NaN</td>\n",
              "      <td>NaN</td>\n",
              "      <td>NaN</td>\n",
              "      <td>NaN</td>\n",
              "      <td>NaN</td>\n",
              "      <td>NaN</td>\n",
              "      <td>1818</td>\n",
              "    </tr>\n",
              "    <tr>\n",
              "      <th>2467</th>\n",
              "      <td>0</td>\n",
              "      <td>19</td>\n",
              "      <td>2</td>\n",
              "      <td>9</td>\n",
              "      <td>20</td>\n",
              "      <td>11</td>\n",
              "      <td>11.0</td>\n",
              "      <td>9</td>\n",
              "      <td>2</td>\n",
              "      <td>215.0</td>\n",
              "      <td>...</td>\n",
              "      <td>7.0</td>\n",
              "      <td>12.0</td>\n",
              "      <td>12.0</td>\n",
              "      <td>9.0</td>\n",
              "      <td>NaN</td>\n",
              "      <td>NaN</td>\n",
              "      <td>NaN</td>\n",
              "      <td>NaN</td>\n",
              "      <td>NaN</td>\n",
              "      <td>937</td>\n",
              "    </tr>\n",
              "    <tr>\n",
              "      <th>2468</th>\n",
              "      <td>1</td>\n",
              "      <td>38</td>\n",
              "      <td>2</td>\n",
              "      <td>21</td>\n",
              "      <td>22</td>\n",
              "      <td>22</td>\n",
              "      <td>7.0</td>\n",
              "      <td>16</td>\n",
              "      <td>5</td>\n",
              "      <td>513.0</td>\n",
              "      <td>...</td>\n",
              "      <td>9.0</td>\n",
              "      <td>8.0</td>\n",
              "      <td>7.0</td>\n",
              "      <td>8.0</td>\n",
              "      <td>5.0</td>\n",
              "      <td>8.0</td>\n",
              "      <td>8.0</td>\n",
              "      <td>6.0</td>\n",
              "      <td>8.0</td>\n",
              "      <td>6691</td>\n",
              "    </tr>\n",
              "  </tbody>\n",
              "</table>\n",
              "<p>2469 rows × 191 columns</p>\n",
              "</div>\n",
              "      <button class=\"colab-df-convert\" onclick=\"convertToInteractive('df-f4b9db78-a1e0-4b3f-8bbb-6d6fb999dead')\"\n",
              "              title=\"Convert this dataframe to an interactive table.\"\n",
              "              style=\"display:none;\">\n",
              "        \n",
              "  <svg xmlns=\"http://www.w3.org/2000/svg\" height=\"24px\"viewBox=\"0 0 24 24\"\n",
              "       width=\"24px\">\n",
              "    <path d=\"M0 0h24v24H0V0z\" fill=\"none\"/>\n",
              "    <path d=\"M18.56 5.44l.94 2.06.94-2.06 2.06-.94-2.06-.94-.94-2.06-.94 2.06-2.06.94zm-11 1L8.5 8.5l.94-2.06 2.06-.94-2.06-.94L8.5 2.5l-.94 2.06-2.06.94zm10 10l.94 2.06.94-2.06 2.06-.94-2.06-.94-.94-2.06-.94 2.06-2.06.94z\"/><path d=\"M17.41 7.96l-1.37-1.37c-.4-.4-.92-.59-1.43-.59-.52 0-1.04.2-1.43.59L10.3 9.45l-7.72 7.72c-.78.78-.78 2.05 0 2.83L4 21.41c.39.39.9.59 1.41.59.51 0 1.02-.2 1.41-.59l7.78-7.78 2.81-2.81c.8-.78.8-2.07 0-2.86zM5.41 20L4 18.59l7.72-7.72 1.47 1.35L5.41 20z\"/>\n",
              "  </svg>\n",
              "      </button>\n",
              "      \n",
              "  <style>\n",
              "    .colab-df-container {\n",
              "      display:flex;\n",
              "      flex-wrap:wrap;\n",
              "      gap: 12px;\n",
              "    }\n",
              "\n",
              "    .colab-df-convert {\n",
              "      background-color: #E8F0FE;\n",
              "      border: none;\n",
              "      border-radius: 50%;\n",
              "      cursor: pointer;\n",
              "      display: none;\n",
              "      fill: #1967D2;\n",
              "      height: 32px;\n",
              "      padding: 0 0 0 0;\n",
              "      width: 32px;\n",
              "    }\n",
              "\n",
              "    .colab-df-convert:hover {\n",
              "      background-color: #E2EBFA;\n",
              "      box-shadow: 0px 1px 2px rgba(60, 64, 67, 0.3), 0px 1px 3px 1px rgba(60, 64, 67, 0.15);\n",
              "      fill: #174EA6;\n",
              "    }\n",
              "\n",
              "    [theme=dark] .colab-df-convert {\n",
              "      background-color: #3B4455;\n",
              "      fill: #D2E3FC;\n",
              "    }\n",
              "\n",
              "    [theme=dark] .colab-df-convert:hover {\n",
              "      background-color: #434B5C;\n",
              "      box-shadow: 0px 1px 3px 1px rgba(0, 0, 0, 0.15);\n",
              "      filter: drop-shadow(0px 1px 2px rgba(0, 0, 0, 0.3));\n",
              "      fill: #FFFFFF;\n",
              "    }\n",
              "  </style>\n",
              "\n",
              "      <script>\n",
              "        const buttonEl =\n",
              "          document.querySelector('#df-f4b9db78-a1e0-4b3f-8bbb-6d6fb999dead button.colab-df-convert');\n",
              "        buttonEl.style.display =\n",
              "          google.colab.kernel.accessAllowed ? 'block' : 'none';\n",
              "\n",
              "        async function convertToInteractive(key) {\n",
              "          const element = document.querySelector('#df-f4b9db78-a1e0-4b3f-8bbb-6d6fb999dead');\n",
              "          const dataTable =\n",
              "            await google.colab.kernel.invokeFunction('convertToInteractive',\n",
              "                                                     [key], {});\n",
              "          if (!dataTable) return;\n",
              "\n",
              "          const docLinkHtml = 'Like what you see? Visit the ' +\n",
              "            '<a target=\"_blank\" href=https://colab.research.google.com/notebooks/data_table.ipynb>data table notebook</a>'\n",
              "            + ' to learn more about interactive tables.';\n",
              "          element.innerHTML = '';\n",
              "          dataTable['output_type'] = 'display_data';\n",
              "          await google.colab.output.renderOutput(dataTable, element);\n",
              "          const docLink = document.createElement('div');\n",
              "          docLink.innerHTML = docLinkHtml;\n",
              "          element.appendChild(docLink);\n",
              "        }\n",
              "      </script>\n",
              "    </div>\n",
              "  </div>\n",
              "  "
            ],
            "text/plain": [
              "      gender  idg  condtn  wave  round  position  positin1  order  partner  \\\n",
              "0          0    5       2     2     16         3       NaN     13       13   \n",
              "1          0   33       2    14     18         6       6.0      4        8   \n",
              "2          1    6       2     9     20        10      16.0     15       19   \n",
              "3          1   26       2     2     19        15       NaN      8       10   \n",
              "4          0   29       2     7     16         7       7.0     10        5   \n",
              "...      ...  ...     ...   ...    ...       ...       ...    ...      ...   \n",
              "2464       0   23       2    15     19        18      18.0     14       11   \n",
              "2465       0    5       1    13      9         4       4.0      4        8   \n",
              "2466       1   26       2     2     19         3       NaN     15        3   \n",
              "2467       0   19       2     9     20        11      11.0      9        2   \n",
              "2468       1   38       2    21     22        22       7.0     16        5   \n",
              "\n",
              "        pid  ...  sinc3_3  intel3_3  fun3_3  amb3_3  attr5_3  sinc5_3  \\\n",
              "0      52.0  ...      7.0       8.0     6.0     8.0      NaN      NaN   \n",
              "1     368.0  ...      8.0       7.0     7.0     8.0      6.0      7.0   \n",
              "2     212.0  ...      NaN       NaN     NaN     NaN      NaN      NaN   \n",
              "3      30.0  ...      NaN       NaN     NaN     NaN      NaN      NaN   \n",
              "4     162.0  ...      NaN       NaN     NaN     NaN      NaN      NaN   \n",
              "...     ...  ...      ...       ...     ...     ...      ...      ...   \n",
              "2464  407.0  ...      NaN       NaN     NaN     NaN      NaN      NaN   \n",
              "2465  339.0  ...      NaN       NaN     NaN     NaN      NaN      NaN   \n",
              "2466   23.0  ...      NaN       NaN     NaN     NaN      NaN      NaN   \n",
              "2467  215.0  ...      7.0      12.0    12.0     9.0      NaN      NaN   \n",
              "2468  513.0  ...      9.0       8.0     7.0     8.0      5.0      8.0   \n",
              "\n",
              "      intel5_3  fun5_3  amb5_3    id  \n",
              "0          NaN     NaN     NaN   934  \n",
              "1          6.0     5.0     5.0  6539  \n",
              "2          NaN     NaN     NaN  6757  \n",
              "3          NaN     NaN     NaN  2275  \n",
              "4          NaN     NaN     NaN  1052  \n",
              "...        ...     ...     ...   ...  \n",
              "2464       NaN     NaN     NaN  7982  \n",
              "2465       NaN     NaN     NaN  7299  \n",
              "2466       NaN     NaN     NaN  1818  \n",
              "2467       NaN     NaN     NaN   937  \n",
              "2468       8.0     6.0     8.0  6691  \n",
              "\n",
              "[2469 rows x 191 columns]"
            ]
          },
          "metadata": {},
          "execution_count": 5
        }
      ],
      "source": [
        "#display test data\n",
        "test_"
      ],
      "id": "-RokU6DOPib2"
    },
    {
      "cell_type": "code",
      "execution_count": 6,
      "metadata": {
        "colab": {
          "base_uri": "https://localhost:8080/"
        },
        "id": "e_RqLV70WdVx",
        "outputId": "88d13b86-23f7-4abe-db9c-f02514110c95"
      },
      "outputs": [
        {
          "output_type": "execute_result",
          "data": {
            "text/plain": [
              "num_in_3    5449\n",
              "numdat_3    4849\n",
              "expnum      4627\n",
              "amb7_2      4519\n",
              "sinc7_2     4519\n",
              "            ... \n",
              "position       0\n",
              "round          0\n",
              "wave           0\n",
              "condtn         0\n",
              "id             0\n",
              "Length: 192, dtype: int64"
            ]
          },
          "metadata": {},
          "execution_count": 6
        }
      ],
      "source": [
        "#display the no. of nulls in each columns\n",
        "data.isnull().sum().sort_values(ascending=False)"
      ],
      "id": "e_RqLV70WdVx"
    },
    {
      "cell_type": "code",
      "execution_count": 7,
      "metadata": {
        "colab": {
          "base_uri": "https://localhost:8080/"
        },
        "id": "52c49ccb",
        "outputId": "55f09d7c-39f0-447c-e390-a413ae8676b0"
      },
      "outputs": [
        {
          "output_type": "stream",
          "name": "stdout",
          "text": [
            "<class 'pandas.core.frame.DataFrame'>\n",
            "RangeIndex: 5909 entries, 0 to 5908\n",
            "Columns: 192 entries, gender to id\n",
            "dtypes: float64(173), int64(11), object(8)\n",
            "memory usage: 8.7+ MB\n"
          ]
        }
      ],
      "source": [
        "#display data information\n",
        "data.info()"
      ],
      "id": "52c49ccb"
    },
    {
      "cell_type": "code",
      "execution_count": 8,
      "metadata": {
        "colab": {
          "base_uri": "https://localhost:8080/",
          "height": 297
        },
        "id": "uXUfEq9Q424v",
        "outputId": "319319e8-34db-4762-ac00-c49fb80fd271"
      },
      "outputs": [
        {
          "output_type": "execute_result",
          "data": {
            "text/plain": [
              "Text(0, 0.5, 'no.')"
            ]
          },
          "metadata": {},
          "execution_count": 8
        },
        {
          "output_type": "display_data",
          "data": {
            "image/png": "[encoded data removed]",
            "text/plain": [
              "<Figure size 432x288 with 1 Axes>"
            ]
          },
          "metadata": {
            "needs_background": "light"
          }
        }
      ],
      "source": [
        "#let us visualize some of data\n",
        "import matplotlib.pyplot as plt\n",
        "age = data[np.isfinite(data['age'])]['age']\n",
        "plt.hist(age.values)\n",
        "plt.xlabel('Age')\n",
        "plt.ylabel('no.')"
      ],
      "id": "uXUfEq9Q424v"
    },
    {
      "cell_type": "code",
      "execution_count": 9,
      "metadata": {
        "colab": {
          "base_uri": "https://localhost:8080/",
          "height": 143
        },
        "id": "o4J1zvAF5B2Z",
        "outputId": "e6b1c0e7-68ca-4c01-9733-cf211aafbc96"
      },
      "outputs": [
        {
          "output_type": "execute_result",
          "data": {
            "text/html": [
              "\n",
              "  <div id=\"df-bb8c7e3c-f0aa-46aa-acd1-abfa7ee6a9b6\">\n",
              "    <div class=\"colab-df-container\">\n",
              "      <div>\n",
              "<style scoped>\n",
              "    .dataframe tbody tr th:only-of-type {\n",
              "        vertical-align: middle;\n",
              "    }\n",
              "\n",
              "    .dataframe tbody tr th {\n",
              "        vertical-align: top;\n",
              "    }\n",
              "\n",
              "    .dataframe thead th {\n",
              "        text-align: right;\n",
              "    }\n",
              "</style>\n",
              "<table border=\"1\" class=\"dataframe\">\n",
              "  <thead>\n",
              "    <tr style=\"text-align: right;\">\n",
              "      <th>col_0</th>\n",
              "      <th>count</th>\n",
              "    </tr>\n",
              "    <tr>\n",
              "      <th>match</th>\n",
              "      <th></th>\n",
              "    </tr>\n",
              "  </thead>\n",
              "  <tbody>\n",
              "    <tr>\n",
              "      <th>0</th>\n",
              "      <td>4921</td>\n",
              "    </tr>\n",
              "    <tr>\n",
              "      <th>1</th>\n",
              "      <td>988</td>\n",
              "    </tr>\n",
              "  </tbody>\n",
              "</table>\n",
              "</div>\n",
              "      <button class=\"colab-df-convert\" onclick=\"convertToInteractive('df-bb8c7e3c-f0aa-46aa-acd1-abfa7ee6a9b6')\"\n",
              "              title=\"Convert this dataframe to an interactive table.\"\n",
              "              style=\"display:none;\">\n",
              "        \n",
              "  <svg xmlns=\"http://www.w3.org/2000/svg\" height=\"24px\"viewBox=\"0 0 24 24\"\n",
              "       width=\"24px\">\n",
              "    <path d=\"M0 0h24v24H0V0z\" fill=\"none\"/>\n",
              "    <path d=\"M18.56 5.44l.94 2.06.94-2.06 2.06-.94-2.06-.94-.94-2.06-.94 2.06-2.06.94zm-11 1L8.5 8.5l.94-2.06 2.06-.94-2.06-.94L8.5 2.5l-.94 2.06-2.06.94zm10 10l.94 2.06.94-2.06 2.06-.94-2.06-.94-.94-2.06-.94 2.06-2.06.94z\"/><path d=\"M17.41 7.96l-1.37-1.37c-.4-.4-.92-.59-1.43-.59-.52 0-1.04.2-1.43.59L10.3 9.45l-7.72 7.72c-.78.78-.78 2.05 0 2.83L4 21.41c.39.39.9.59 1.41.59.51 0 1.02-.2 1.41-.59l7.78-7.78 2.81-2.81c.8-.78.8-2.07 0-2.86zM5.41 20L4 18.59l7.72-7.72 1.47 1.35L5.41 20z\"/>\n",
              "  </svg>\n",
              "      </button>\n",
              "      \n",
              "  <style>\n",
              "    .colab-df-container {\n",
              "      display:flex;\n",
              "      flex-wrap:wrap;\n",
              "      gap: 12px;\n",
              "    }\n",
              "\n",
              "    .colab-df-convert {\n",
              "      background-color: #E8F0FE;\n",
              "      border: none;\n",
              "      border-radius: 50%;\n",
              "      cursor: pointer;\n",
              "      display: none;\n",
              "      fill: #1967D2;\n",
              "      height: 32px;\n",
              "      padding: 0 0 0 0;\n",
              "      width: 32px;\n",
              "    }\n",
              "\n",
              "    .colab-df-convert:hover {\n",
              "      background-color: #E2EBFA;\n",
              "      box-shadow: 0px 1px 2px rgba(60, 64, 67, 0.3), 0px 1px 3px 1px rgba(60, 64, 67, 0.15);\n",
              "      fill: #174EA6;\n",
              "    }\n",
              "\n",
              "    [theme=dark] .colab-df-convert {\n",
              "      background-color: #3B4455;\n",
              "      fill: #D2E3FC;\n",
              "    }\n",
              "\n",
              "    [theme=dark] .colab-df-convert:hover {\n",
              "      background-color: #434B5C;\n",
              "      box-shadow: 0px 1px 3px 1px rgba(0, 0, 0, 0.15);\n",
              "      filter: drop-shadow(0px 1px 2px rgba(0, 0, 0, 0.3));\n",
              "      fill: #FFFFFF;\n",
              "    }\n",
              "  </style>\n",
              "\n",
              "      <script>\n",
              "        const buttonEl =\n",
              "          document.querySelector('#df-bb8c7e3c-f0aa-46aa-acd1-abfa7ee6a9b6 button.colab-df-convert');\n",
              "        buttonEl.style.display =\n",
              "          google.colab.kernel.accessAllowed ? 'block' : 'none';\n",
              "\n",
              "        async function convertToInteractive(key) {\n",
              "          const element = document.querySelector('#df-bb8c7e3c-f0aa-46aa-acd1-abfa7ee6a9b6');\n",
              "          const dataTable =\n",
              "            await google.colab.kernel.invokeFunction('convertToInteractive',\n",
              "                                                     [key], {});\n",
              "          if (!dataTable) return;\n",
              "\n",
              "          const docLinkHtml = 'Like what you see? Visit the ' +\n",
              "            '<a target=\"_blank\" href=https://colab.research.google.com/notebooks/data_table.ipynb>data table notebook</a>'\n",
              "            + ' to learn more about interactive tables.';\n",
              "          element.innerHTML = '';\n",
              "          dataTable['output_type'] = 'display_data';\n",
              "          await google.colab.output.renderOutput(dataTable, element);\n",
              "          const docLink = document.createElement('div');\n",
              "          docLink.innerHTML = docLinkHtml;\n",
              "          element.appendChild(docLink);\n",
              "        }\n",
              "      </script>\n",
              "    </div>\n",
              "  </div>\n",
              "  "
            ],
            "text/plain": [
              "col_0  count\n",
              "match       \n",
              "0       4921\n",
              "1        988"
            ]
          },
          "metadata": {},
          "execution_count": 9
        }
      ],
      "source": [
        "#the data unbalanced most of records is unmatched\n",
        "pd.crosstab(index=data['match'],columns=\"count\")"
      ],
      "id": "o4J1zvAF5B2Z"
    },
    {
      "cell_type": "code",
      "execution_count": 10,
      "metadata": {
        "id": "3vNtM2kS_xq8",
        "colab": {
          "base_uri": "https://localhost:8080/",
          "height": 353
        },
        "outputId": "50b6a0c7-52aa-4ab6-def5-d9c7cbba62bc"
      },
      "outputs": [
        {
          "output_type": "display_data",
          "data": {
            "image/png": "[encoded data removed]",
            "text/plain": [
              "<Figure size 864x360 with 1 Axes>"
            ]
          },
          "metadata": {
            "needs_background": "light"
          }
        }
      ],
      "source": [
        "#let's visualize what is the number in each field\n",
        "import seaborn as sns\n",
        "plt.figure(figsize = (12,5))\n",
        "ax = sns.countplot(x=\"field_cd\", data=data)\n",
        "plt.title('Field of study', fontsize=18)\n",
        "\n",
        "ax.set_xticklabels(ax.get_xticklabels(),rotation=45)\n",
        "\n",
        "plt.ylim(0, 1500)\n",
        "plt.xlabel('')\n",
        "\n",
        "for i in ax.patches:\n",
        "    ax.text(i.get_x()+.2, i.get_height()+3, \\\n",
        "            str(round((i.get_height()), 1)), fontsize=12)"
      ],
      "id": "3vNtM2kS_xq8"
    },
    {
      "cell_type": "code",
      "execution_count": 11,
      "metadata": {
        "id": "1DkRq_RfAP38",
        "colab": {
          "base_uri": "https://localhost:8080/",
          "height": 353
        },
        "outputId": "8fd0f7e3-bf1e-44b8-a30c-d04c8e09c3fb"
      },
      "outputs": [
        {
          "output_type": "display_data",
          "data": {
            "image/png": "[encoded data removed]",
            "text/plain": [
              "<Figure size 864x360 with 1 Axes>"
            ]
          },
          "metadata": {
            "needs_background": "light"
          }
        }
      ],
      "source": [
        "#let us visualize how many people in each career and what is the most common one\n",
        "plt.figure(figsize = (12,5))\n",
        "ax = sns.countplot(x=\"career_c\", data=data)\n",
        "plt.title('Career', fontsize=18)\n",
        "\n",
        "ax.set_xticklabels(ax.get_xticklabels(),rotation=45)\n",
        "\n",
        "plt.ylim(0, 1800)\n",
        "plt.xlabel('')\n",
        "\n",
        "for i in ax.patches:\n",
        "    ax.text(i.get_x()+.2, i.get_height()+3, \\\n",
        "            str(round((i.get_height()), 1)), fontsize=12)"
      ],
      "id": "1DkRq_RfAP38"
    },
    {
      "cell_type": "code",
      "execution_count": 12,
      "metadata": {
        "id": "1tJN8b1PZCNE"
      },
      "outputs": [],
      "source": [
        "#fill null values with most common values\n",
        "data['career_c']=data['career_c'].fillna(2)\n",
        "data['field_cd']=data['field_cd'].fillna(8)\n",
        "\n",
        "test_['career_c']=test_['career_c'].fillna(2)\n",
        "test_['field_cd']=test_['field_cd'].fillna(8)\n",
        "\n",
        "#x['field_cd']=x['field_cd'].fillna(x['field_cd'].mean())\n",
        "#x['career_c']=x['career_c'].fillna(x['career_c'].mean())\n",
        "\n",
        "#test['field_cd']=test['field_cd'].fillna(x['field_cd'].mean())\n",
        "#test['career_c']=test['career_c'].fillna(x['career_c'].mean())"
      ],
      "id": "1tJN8b1PZCNE"
    },
    {
      "cell_type": "markdown",
      "metadata": {
        "id": "zY-d5kIW_Cug"
      },
      "source": [
        "##Data Cleaning and preprocessing\n"
      ],
      "id": "zY-d5kIW_Cug"
    },
    {
      "cell_type": "code",
      "execution_count": 13,
      "metadata": {
        "id": "tr-lsbflP0jE"
      },
      "outputs": [],
      "source": [
        "#drop useless columns         \n",
        "y=data['match']\n",
        "x=data.drop(['partner','id','match','career','field','undergra','zipcode','idg','wave','pid'],axis=1)"
      ],
      "id": "tr-lsbflP0jE"
    },
    {
      "cell_type": "code",
      "execution_count": 14,
      "metadata": {
        "id": "-31QTUDxj6FC"
      },
      "outputs": [],
      "source": [
        "test=test_.drop(['partner','id','career','field','undergra','zipcode','idg','wave','pid'],axis=1)"
      ],
      "id": "-31QTUDxj6FC"
    },
    {
      "cell_type": "code",
      "execution_count": 15,
      "metadata": {
        "id": "EY0Cb1N4AdXA"
      },
      "outputs": [],
      "source": [
        "#define categorical features\n",
        "x['field_cd']=x['field_cd'].astype('category')\n",
        "x['career_c']=x['career_c'].astype('category')\n",
        "x['income']=x['income'].astype('category')\n",
        "x['from']=x['from'].astype('category')"
      ],
      "id": "EY0Cb1N4AdXA"
    },
    {
      "cell_type": "code",
      "execution_count": 16,
      "metadata": {
        "id": "-6ZA_6fkcESg"
      },
      "outputs": [],
      "source": [
        "#split features to numeric and categorical\n",
        "features_numeric = list(x.select_dtypes(include=['float64', 'int64']))\n",
        "features_categorical = list(x.select_dtypes(include=['category']))"
      ],
      "id": "-6ZA_6fkcESg"
    },
    {
      "cell_type": "code",
      "execution_count": 17,
      "metadata": {
        "id": "GLs3UWytg8qU"
      },
      "outputs": [],
      "source": [
        "np.random.seed(0)\n",
        "\n",
        "# define a pipe line for numeric feature preprocessing\n",
        "# we gave them a name so we can set their hyperparameters\n",
        "transformer_numeric = Pipeline(\n",
        "    steps=[\n",
        "        ('imputer', SimpleImputer()),\n",
        "        ('scaler', StandardScaler())]\n",
        ")\n",
        "\n",
        "# define a pipe line for categorical feature preprocessing\n",
        "# we gave them a name so we can set their hyperparameters\n",
        "transformer_categorical = Pipeline(\n",
        "    steps=[\n",
        "        ('imputer', SimpleImputer(strategy='constant')),\n",
        "        ('onehot', OneHotEncoder(handle_unknown='ignore'))\n",
        "    ]\n",
        ")\n",
        "# define the preprocessor \n",
        "# we gave them a name so we can set their hyperparameters\n",
        "# we also specify what are the categorical \n",
        "preprocessor = ColumnTransformer(\n",
        "    transformers=[\n",
        "        ('num', transformer_numeric, features_numeric),\n",
        "        ('cat', transformer_categorical, features_categorical)\n",
        "    ]\n",
        ")\n",
        "#no of features=743"
      ],
      "id": "GLs3UWytg8qU"
    },
    {
      "cell_type": "markdown",
      "source": [
        "##First Model: Decision Tree\n",
        "Firstly we'll try decision tree and tune hyperparameters using pipeline and search functions I expect high traing and test score with the tuned hyperparameters but grid search will be slow."
      ],
      "metadata": {
        "id": "Irp2lP6yoj_q"
      },
      "id": "Irp2lP6yoj_q"
    },
    {
      "cell_type": "markdown",
      "source": [
        "###Tune Pipeline"
      ],
      "metadata": {
        "id": "f8QM0oGsp2Em"
      },
      "id": "f8QM0oGsp2Em"
    },
    {
      "cell_type": "code",
      "source": [
        "from sklearn.pipeline import Pipeline\n",
        "from sklearn import decomposition\n",
        "from sklearn import tree\n",
        "#set list of values in each hyperparameter\n",
        "criterion = ['gini', 'entropy']\n",
        "max_depth = [6,7,8,10,12,14]\n",
        "dec_tree = tree.DecisionTreeClassifier()\n",
        "parameters = dict(dec_tree__criterion=criterion,\n",
        "                  dec_tree__max_depth=max_depth)\n",
        "pipe = Pipeline(steps=[('preprocessor', preprocessor),\n",
        "                       #use feature selection function to select best features\n",
        "                       ('feature_selection', SelectKBest(score_func=f_classif,k=350)),\n",
        "                       ('dec_tree', dec_tree)])\n",
        "pipe.fit(x,y)"
      ],
      "metadata": {
        "colab": {
          "base_uri": "https://localhost:8080/"
        },
        "id": "a5xoRKSNcNJU",
        "outputId": "cbf20356-0883-4f0e-bb38-976c43e3132a"
      },
      "id": "a5xoRKSNcNJU",
      "execution_count": 18,
      "outputs": [
        {
          "output_type": "execute_result",
          "data": {
            "text/plain": [
              "Pipeline(steps=[('preprocessor',\n",
              "                 ColumnTransformer(transformers=[('num',\n",
              "                                                  Pipeline(steps=[('imputer',\n",
              "                                                                   SimpleImputer()),\n",
              "                                                                  ('scaler',\n",
              "                                                                   StandardScaler())]),\n",
              "                                                  ['gender', 'condtn', 'round',\n",
              "                                                   'position', 'positin1',\n",
              "                                                   'order', 'int_corr',\n",
              "                                                   'samerace', 'age_o',\n",
              "                                                   'race_o', 'pf_o_att',\n",
              "                                                   'pf_o_sin', 'pf_o_int',\n",
              "                                                   'pf_o_fun', 'pf_o_amb',\n",
              "                                                   'pf_o_sha', 'attr_o',\n",
              "                                                   'sinc_o', 'intel_o', 'fun_o',\n",
              "                                                   'amb_o', 'shar_o', 'like_o',\n",
              "                                                   'prob_o', 'met_o', 'age',\n",
              "                                                   'race', 'imprace',\n",
              "                                                   'imprelig', 'goal', ...]),\n",
              "                                                 ('cat',\n",
              "                                                  Pipeline(steps=[('imputer',\n",
              "                                                                   SimpleImputer(strategy='constant')),\n",
              "                                                                  ('onehot',\n",
              "                                                                   OneHotEncoder(handle_unknown='ignore'))]),\n",
              "                                                  ['field_cd', 'from', 'income',\n",
              "                                                   'career_c'])])),\n",
              "                ('feature_selection', SelectKBest(k=350)),\n",
              "                ('dec_tree', DecisionTreeClassifier())])"
            ]
          },
          "metadata": {},
          "execution_count": 18
        }
      ]
    },
    {
      "cell_type": "markdown",
      "source": [
        "###Trial 1: Decision Tree with Random search\n",
        "\n"
      ],
      "metadata": {
        "id": "F0w3T9SwcCOa"
      },
      "id": "F0w3T9SwcCOa"
    },
    {
      "cell_type": "code",
      "source": [
        "from sklearn.model_selection import train_test_split, RandomizedSearchCV\n",
        "from sklearn.model_selection import PredefinedSplit\n",
        "#use random search to find optimal hyperparameters\n",
        "random_search_1 = RandomizedSearchCV(\n",
        "    pipe, parameters, cv=4, verbose=1, n_jobs=2, \n",
        "    # number of random trials\n",
        "    n_iter=10,\n",
        "    scoring='roc_auc')\n",
        "\n",
        "random_search_1.fit(x, y)\n",
        "\n",
        "print('best score {}'.format(random_search_1.best_score_))\n",
        "print('best score {}'.format(random_search_1.best_params_))"
      ],
      "metadata": {
        "colab": {
          "base_uri": "https://localhost:8080/"
        },
        "id": "_GB7cmYecVRK",
        "outputId": "1c4b782e-b973-4253-ac3e-8546f78c7799"
      },
      "id": "_GB7cmYecVRK",
      "execution_count": 19,
      "outputs": [
        {
          "output_type": "stream",
          "name": "stdout",
          "text": [
            "Fitting 4 folds for each of 10 candidates, totalling 40 fits\n",
            "best score 0.8128086361695501\n",
            "best score {'dec_tree__max_depth': 6, 'dec_tree__criterion': 'entropy'}\n"
          ]
        }
      ]
    },
    {
      "cell_type": "code",
      "source": [
        "#predict output and save submission\n",
        "submission = pd.DataFrame()\n",
        "submission['id'] = test_['id']\n",
        "submission['match'] = random_search_1.predict_proba(test)[:,1]\n",
        "submission.to_csv('sample_submission_walkthrough1.csv', index=False)"
      ],
      "metadata": {
        "id": "fSdolNJ0ktjM"
      },
      "id": "fSdolNJ0ktjM",
      "execution_count": 20,
      "outputs": []
    },
    {
      "cell_type": "markdown",
      "source": [
        "**Validation Score is: 0.813**\n",
        "\n",
        "**Test score is: 0.79943**"
      ],
      "metadata": {
        "id": "pFS8X-oz1KTN"
      },
      "id": "pFS8X-oz1KTN"
    },
    {
      "cell_type": "markdown",
      "source": [
        "###Trail 2: Decision Tree with BayesianSearch"
      ],
      "metadata": {
        "id": "GiIi8US-ey8x"
      },
      "id": "GiIi8US-ey8x"
    },
    {
      "cell_type": "code",
      "source": [
        "!pip install scikit-optimize\n",
        "from skopt import BayesSearchCV\n",
        "from skopt.space import Real, Categorical, Integer\n",
        "bayes_search_1 = BayesSearchCV(\n",
        "    pipe, parameters, cv=6, verbose=1, n_jobs=2, \n",
        "    # number of random trials\n",
        "    n_iter=15,\n",
        "    scoring='roc_auc')\n",
        "\n",
        "bayes_search_1.fit(x, y)\n",
        "\n",
        "print('best score {}'.format(bayes_search_1.best_score_))\n",
        "print('best score {}'.format(bayes_search_1.best_params_))"
      ],
      "metadata": {
        "colab": {
          "base_uri": "https://localhost:8080/"
        },
        "id": "-MFX2GM8fs7V",
        "outputId": "75aac304-5c12-43bf-8b49-2dceeea42bde"
      },
      "id": "-MFX2GM8fs7V",
      "execution_count": 21,
      "outputs": [
        {
          "output_type": "stream",
          "name": "stdout",
          "text": [
            "Requirement already satisfied: scikit-optimize in /usr/local/lib/python3.7/dist-packages (0.9.0)\n",
            "Requirement already satisfied: numpy>=1.13.3 in /usr/local/lib/python3.7/dist-packages (from scikit-optimize) (1.21.5)\n",
            "Requirement already satisfied: pyaml>=16.9 in /usr/local/lib/python3.7/dist-packages (from scikit-optimize) (21.10.1)\n",
            "Requirement already satisfied: scipy>=0.19.1 in /usr/local/lib/python3.7/dist-packages (from scikit-optimize) (1.4.1)\n",
            "Requirement already satisfied: joblib>=0.11 in /usr/local/lib/python3.7/dist-packages (from scikit-optimize) (1.1.0)\n",
            "Requirement already satisfied: scikit-learn>=0.20.0 in /usr/local/lib/python3.7/dist-packages (from scikit-optimize) (1.0.2)\n",
            "Requirement already satisfied: PyYAML in /usr/local/lib/python3.7/dist-packages (from pyaml>=16.9->scikit-optimize) (3.13)\n",
            "Requirement already satisfied: threadpoolctl>=2.0.0 in /usr/local/lib/python3.7/dist-packages (from scikit-learn>=0.20.0->scikit-optimize) (3.1.0)\n",
            "Fitting 6 folds for each of 1 candidates, totalling 6 fits\n",
            "Fitting 6 folds for each of 1 candidates, totalling 6 fits\n",
            "Fitting 6 folds for each of 1 candidates, totalling 6 fits\n",
            "Fitting 6 folds for each of 1 candidates, totalling 6 fits\n",
            "Fitting 6 folds for each of 1 candidates, totalling 6 fits\n",
            "Fitting 6 folds for each of 1 candidates, totalling 6 fits\n",
            "Fitting 6 folds for each of 1 candidates, totalling 6 fits\n",
            "Fitting 6 folds for each of 1 candidates, totalling 6 fits\n",
            "Fitting 6 folds for each of 1 candidates, totalling 6 fits\n",
            "Fitting 6 folds for each of 1 candidates, totalling 6 fits\n",
            "Fitting 6 folds for each of 1 candidates, totalling 6 fits\n",
            "Fitting 6 folds for each of 1 candidates, totalling 6 fits\n",
            "Fitting 6 folds for each of 1 candidates, totalling 6 fits\n",
            "Fitting 6 folds for each of 1 candidates, totalling 6 fits\n"
          ]
        },
        {
          "output_type": "stream",
          "name": "stderr",
          "text": [
            "/usr/local/lib/python3.7/dist-packages/skopt/optimizer/optimizer.py:449: UserWarning: The objective has been evaluated at this point before.\n",
            "  warnings.warn(\"The objective has been evaluated \"\n"
          ]
        },
        {
          "output_type": "stream",
          "name": "stdout",
          "text": [
            "Fitting 6 folds for each of 1 candidates, totalling 6 fits\n",
            "best score 0.8079653502055942\n",
            "best score OrderedDict([('dec_tree__criterion', 'entropy'), ('dec_tree__max_depth', 6)])\n"
          ]
        }
      ]
    },
    {
      "cell_type": "code",
      "source": [
        "#predict output and save submission\n",
        "submission = pd.DataFrame()\n",
        "submission['id'] = test_['id']\n",
        "submission['match'] = bayes_search_1.predict_proba(test)[:,1]\n",
        "submission.to_csv('sample_submission_walkthrough2.csv', index=False)"
      ],
      "metadata": {
        "id": "CaXCYXRblBKm"
      },
      "id": "CaXCYXRblBKm",
      "execution_count": 22,
      "outputs": []
    },
    {
      "cell_type": "markdown",
      "source": [
        "**Validation Score is: 0.808**\n",
        "\n",
        "**Test score is: 0.80016**"
      ],
      "metadata": {
        "id": "nieygmx61oCU"
      },
      "id": "nieygmx61oCU"
    },
    {
      "cell_type": "markdown",
      "source": [
        "###Trial 3: Decision Tree with GridSearch"
      ],
      "metadata": {
        "id": "BTreCccZetdy"
      },
      "id": "BTreCccZetdy"
    },
    {
      "cell_type": "code",
      "source": [
        "grid_search_1 = GridSearchCV(\n",
        "    pipe, parameters, cv=6, verbose=1, n_jobs=2, \n",
        "    scoring='roc_auc')\n",
        "\n",
        "grid_search_1.fit(x, y)\n",
        "print('best score {}'.format(grid_search_1.best_score_))\n",
        "print('best score {}'.format(grid_search_1.best_params_))"
      ],
      "metadata": {
        "colab": {
          "base_uri": "https://localhost:8080/"
        },
        "id": "HLM5nZHSfK1w",
        "outputId": "a610f9e7-c24b-4702-f9fa-e2c021cf9fed"
      },
      "id": "HLM5nZHSfK1w",
      "execution_count": 23,
      "outputs": [
        {
          "output_type": "stream",
          "name": "stdout",
          "text": [
            "Fitting 6 folds for each of 12 candidates, totalling 72 fits\n",
            "best score 0.8086432292223028\n",
            "best score {'dec_tree__criterion': 'entropy', 'dec_tree__max_depth': 6}\n"
          ]
        }
      ]
    },
    {
      "cell_type": "code",
      "source": [
        "#predict output and save submission\n",
        "submission = pd.DataFrame()\n",
        "submission['id'] = test_['id']\n",
        "submission['match'] = grid_search_1.predict_proba(test)[:,1]\n",
        "submission.to_csv('sample_submission_walkthrough3.csv', index=False)"
      ],
      "metadata": {
        "id": "IsOBtPE7kio5"
      },
      "id": "IsOBtPE7kio5",
      "execution_count": 24,
      "outputs": []
    },
    {
      "cell_type": "markdown",
      "source": [
        "**Validation Score is: 0.809**\n",
        "\n",
        "**Test score is: 0.82575**"
      ],
      "metadata": {
        "id": "825_BOls2GOT"
      },
      "id": "825_BOls2GOT"
    },
    {
      "cell_type": "markdown",
      "source": [
        "### **As I expected bayesian and random is faster than grid search and all give us same hyperparameters and too close in result but the score not as I expected so Let's try another type of model**"
      ],
      "metadata": {
        "id": "6YY8Wfmp2qg9"
      },
      "id": "6YY8Wfmp2qg9"
    },
    {
      "cell_type": "markdown",
      "source": [
        "##Second Model: XGBoost Classifier\n",
        "I expect for this model that the score will be better than decision tree."
      ],
      "metadata": {
        "id": "C3XzGjAqo2zU"
      },
      "id": "C3XzGjAqo2zU"
    },
    {
      "cell_type": "markdown",
      "source": [
        "###Tune Pipeline"
      ],
      "metadata": {
        "id": "Bs6TZVHap9tr"
      },
      "id": "Bs6TZVHap9tr"
    },
    {
      "cell_type": "code",
      "source": [
        "# combine the preprocessor with the model as a full tunable pipeline\n",
        "# we gave them a name so we can set their hyperparameters\n",
        "full_pipline_2 = Pipeline(steps=[('preprocessor', preprocessor),\n",
        "                                 ('feature_selection', SelectKBest(score_func=f_classif,k=350)),\n",
        "                                 ('my_classifier', XGBClassifier())])\n",
        "full_pipline_2.fit(x,y)\n",
        "param_grid = {'preprocessor__num__imputer__strategy': ['mean'],\n",
        "             # preprocessor__num__imputer__strategy points to preprocessor->num (a Pipeline)-> imputer -> strategy\n",
        "             'my_classifier__n_estimators': [10,20,25, 30, 40,50,60,70,80],  \n",
        "             # my_classifier__n_estimators points to my_classifier->n_estimators \n",
        "             'my_classifier__max_depth':[5,10, 20, 30,40,50] }"
      ],
      "metadata": {
        "id": "amtCHcBynzj9"
      },
      "id": "amtCHcBynzj9",
      "execution_count": 25,
      "outputs": []
    },
    {
      "cell_type": "markdown",
      "metadata": {
        "id": "gAxHWASPvzSB"
      },
      "source": [
        "###Trial 4: XGboost with Random Search \n"
      ],
      "id": "gAxHWASPvzSB"
    },
    {
      "cell_type": "code",
      "execution_count": 26,
      "metadata": {
        "id": "FNFORCc7guMH",
        "colab": {
          "base_uri": "https://localhost:8080/"
        },
        "outputId": "b5c7446e-fbb8-4193-dd45-fee33ed56884"
      },
      "outputs": [
        {
          "output_type": "stream",
          "name": "stdout",
          "text": [
            "Fitting 5 folds for each of 10 candidates, totalling 50 fits\n",
            "best score 0.8778907753489491\n",
            "best score {'preprocessor__num__imputer__strategy': 'mean', 'my_classifier__n_estimators': 50, 'my_classifier__max_depth': 5}\n"
          ]
        }
      ],
      "source": [
        "from sklearn.model_selection import train_test_split, RandomizedSearchCV\n",
        "from sklearn.model_selection import PredefinedSplit\n",
        "\n",
        "random_search_2 = RandomizedSearchCV(\n",
        "    full_pipline_2, param_grid, cv=5, verbose=1, n_jobs=2, \n",
        "    # number of random trials\n",
        "    n_iter=10,\n",
        "    scoring='roc_auc')\n",
        "\n",
        "random_search_2.fit(x, y)\n",
        "\n",
        "print('best score {}'.format(random_search_2.best_score_))\n",
        "print('best score {}'.format(random_search_2.best_params_))"
      ],
      "id": "FNFORCc7guMH"
    },
    {
      "cell_type": "code",
      "execution_count": 27,
      "metadata": {
        "id": "3CWQFNoDhBdv"
      },
      "outputs": [],
      "source": [
        "#predict output and save submission\n",
        "submission = pd.DataFrame()\n",
        "submission['id'] = test_['id']\n",
        "submission['match'] = random_search_2.predict_proba(test)[:,1]\n",
        "submission.to_csv('sample_submission_walkthrough4.csv', index=False)"
      ],
      "id": "3CWQFNoDhBdv"
    },
    {
      "cell_type": "markdown",
      "source": [
        "**Validation Score is: 0.8779**\n",
        "\n",
        "**Test score is: 0.87169**"
      ],
      "metadata": {
        "id": "EjmXuZqJ3su7"
      },
      "id": "EjmXuZqJ3su7"
    },
    {
      "cell_type": "markdown",
      "metadata": {
        "id": "5HG9bLhFvxO6"
      },
      "source": [
        "###Trial 5: XGBoost with Bayesian Search"
      ],
      "id": "5HG9bLhFvxO6"
    },
    {
      "cell_type": "code",
      "source": [
        "bayes_search_2 = BayesSearchCV(\n",
        "    full_pipline_2, param_grid, cv=5, verbose=1, n_jobs=2, \n",
        "    # number of random trials\n",
        "    n_iter=20,\n",
        "    scoring='roc_auc')\n",
        "\n",
        "bayes_search_2.fit(x, y)\n",
        "\n",
        "print('best score {}'.format(bayes_search_2.best_score_))\n",
        "print('best score {}'.format(bayes_search_2.best_params_))"
      ],
      "metadata": {
        "colab": {
          "base_uri": "https://localhost:8080/"
        },
        "id": "0I6OIGr2ZwS7",
        "outputId": "531ea4a1-1a02-4c6c-d8c5-8e65388550e5"
      },
      "id": "0I6OIGr2ZwS7",
      "execution_count": 28,
      "outputs": [
        {
          "output_type": "stream",
          "name": "stdout",
          "text": [
            "Fitting 5 folds for each of 1 candidates, totalling 5 fits\n",
            "Fitting 5 folds for each of 1 candidates, totalling 5 fits\n",
            "Fitting 5 folds for each of 1 candidates, totalling 5 fits\n",
            "Fitting 5 folds for each of 1 candidates, totalling 5 fits\n",
            "Fitting 5 folds for each of 1 candidates, totalling 5 fits\n",
            "Fitting 5 folds for each of 1 candidates, totalling 5 fits\n",
            "Fitting 5 folds for each of 1 candidates, totalling 5 fits\n",
            "Fitting 5 folds for each of 1 candidates, totalling 5 fits\n",
            "Fitting 5 folds for each of 1 candidates, totalling 5 fits\n",
            "Fitting 5 folds for each of 1 candidates, totalling 5 fits\n",
            "Fitting 5 folds for each of 1 candidates, totalling 5 fits\n",
            "Fitting 5 folds for each of 1 candidates, totalling 5 fits\n",
            "Fitting 5 folds for each of 1 candidates, totalling 5 fits\n",
            "Fitting 5 folds for each of 1 candidates, totalling 5 fits\n",
            "Fitting 5 folds for each of 1 candidates, totalling 5 fits\n",
            "Fitting 5 folds for each of 1 candidates, totalling 5 fits\n",
            "Fitting 5 folds for each of 1 candidates, totalling 5 fits\n",
            "Fitting 5 folds for each of 1 candidates, totalling 5 fits\n",
            "Fitting 5 folds for each of 1 candidates, totalling 5 fits\n",
            "Fitting 5 folds for each of 1 candidates, totalling 5 fits\n",
            "best score 0.8807226375131056\n",
            "best score OrderedDict([('my_classifier__max_depth', 5), ('my_classifier__n_estimators', 80), ('preprocessor__num__imputer__strategy', 'mean')])\n"
          ]
        }
      ]
    },
    {
      "cell_type": "code",
      "execution_count": 29,
      "metadata": {
        "id": "1o2GTsvAhF7w"
      },
      "outputs": [],
      "source": [
        "#predict output and save submission\n",
        "submission = pd.DataFrame()\n",
        "submission['id'] = test_['id']\n",
        "submission['match'] = bayes_search_2.predict_proba(test)[:,1]\n",
        "submission.to_csv('sample_submission_walkthrough5.csv', index=False)"
      ],
      "id": "1o2GTsvAhF7w"
    },
    {
      "cell_type": "markdown",
      "source": [
        "**Validation Score is: 0.8807**\n",
        "\n",
        "**Test score is: 0.87307**"
      ],
      "metadata": {
        "id": "wWM_O2xJ4B1N"
      },
      "id": "wWM_O2xJ4B1N"
    },
    {
      "cell_type": "markdown",
      "metadata": {
        "id": "xgKW0IZEv6YN"
      },
      "source": [
        "###Trial 6: XGBoost clasifier with Grid Search\n"
      ],
      "id": "xgKW0IZEv6YN"
    },
    {
      "cell_type": "code",
      "execution_count": 30,
      "metadata": {
        "colab": {
          "base_uri": "https://localhost:8080/"
        },
        "id": "0NmjSCtFQoxJ",
        "outputId": "d962183e-ad00-491b-86dd-d4b9412d8d8b"
      },
      "outputs": [
        {
          "output_type": "stream",
          "name": "stdout",
          "text": [
            "Fitting 3 folds for each of 54 candidates, totalling 162 fits\n",
            "best score 0.8757804576167724\n",
            "best score {'my_classifier__max_depth': 5, 'my_classifier__n_estimators': 80, 'preprocessor__num__imputer__strategy': 'mean'}\n"
          ]
        }
      ],
      "source": [
        "# cv=2 means two-fold cross-validation\n",
        "# n_jobs means the cucurrent number of jobs\n",
        "# (on colab since we only have two cpu cores, we set it to 2)\n",
        "grid_search_2 = GridSearchCV(\n",
        "    full_pipline_2, param_grid, cv=3, verbose=1, n_jobs=2, \n",
        "    scoring='roc_auc')\n",
        "\n",
        "grid_search_2.fit(x, y)\n",
        "print('best score {}'.format(grid_search_2.best_score_))\n",
        "print('best score {}'.format(grid_search_2.best_params_))"
      ],
      "id": "0NmjSCtFQoxJ"
    },
    {
      "cell_type": "code",
      "execution_count": 31,
      "metadata": {
        "id": "bOrhP_YZjp8q"
      },
      "outputs": [],
      "source": [
        "#predict output and save submission\n",
        "submission = pd.DataFrame()\n",
        "submission['id'] = test_['id']\n",
        "submission['match'] = grid_search_2.predict_proba(test)[:,1]\n",
        "submission.to_csv('sample_submission_walkthrough6.csv', index=False)"
      ],
      "id": "bOrhP_YZjp8q"
    },
    {
      "cell_type": "markdown",
      "source": [
        "**Validation Score is: 0.8758**\n",
        "\n",
        "**Test score is: 0.87866**"
      ],
      "metadata": {
        "id": "_etNkuSf4U5E"
      },
      "id": "_etNkuSf4U5E"
    },
    {
      "cell_type": "markdown",
      "source": [
        "###**As I expected, XGboost model is better than decision tree and the score in bayesian and grid search are the best.**"
      ],
      "metadata": {
        "id": "xAXRbAKT45b0"
      },
      "id": "xAXRbAKT45b0"
    },
    {
      "cell_type": "markdown",
      "source": [
        "##Problem Formulation"
      ],
      "metadata": {
        "id": "lkuRwwcYEPye"
      },
      "id": "lkuRwwcYEPye"
    },
    {
      "cell_type": "markdown",
      "source": [
        "We are going to predict the outcome of a specific speed dating session based on the profile of two people, so we can implement a recommendation system to better match people in speed dating events.\n",
        "\n",
        "The problem is the dataset has a lot of missing values and highly unbalanced(mostly unmatched)."
      ],
      "metadata": {
        "id": "r6aOFGS1bJkx"
      },
      "id": "r6aOFGS1bJkx"
    },
    {
      "cell_type": "markdown",
      "source": [
        "###What is the input?"
      ],
      "metadata": {
        "id": "njo0ugm6E04B"
      },
      "id": "njo0ugm6E04B"
    },
    {
      "cell_type": "code",
      "source": [
        "for col in x.columns:\n",
        "    print(col)"
      ],
      "metadata": {
        "colab": {
          "base_uri": "https://localhost:8080/"
        },
        "id": "c0J4esgwK7GI",
        "outputId": "454dd052-71e0-4581-ffec-69076bf5b7ef"
      },
      "id": "c0J4esgwK7GI",
      "execution_count": 32,
      "outputs": [
        {
          "output_type": "stream",
          "name": "stdout",
          "text": [
            "gender\n",
            "condtn\n",
            "round\n",
            "position\n",
            "positin1\n",
            "order\n",
            "int_corr\n",
            "samerace\n",
            "age_o\n",
            "race_o\n",
            "pf_o_att\n",
            "pf_o_sin\n",
            "pf_o_int\n",
            "pf_o_fun\n",
            "pf_o_amb\n",
            "pf_o_sha\n",
            "attr_o\n",
            "sinc_o\n",
            "intel_o\n",
            "fun_o\n",
            "amb_o\n",
            "shar_o\n",
            "like_o\n",
            "prob_o\n",
            "met_o\n",
            "age\n",
            "field_cd\n",
            "mn_sat\n",
            "tuition\n",
            "race\n",
            "imprace\n",
            "imprelig\n",
            "from\n",
            "income\n",
            "goal\n",
            "date\n",
            "go_out\n",
            "career_c\n",
            "sports\n",
            "tvsports\n",
            "exercise\n",
            "dining\n",
            "museums\n",
            "art\n",
            "hiking\n",
            "gaming\n",
            "clubbing\n",
            "reading\n",
            "tv\n",
            "theater\n",
            "movies\n",
            "concerts\n",
            "music\n",
            "shopping\n",
            "yoga\n",
            "exphappy\n",
            "expnum\n",
            "attr1_1\n",
            "sinc1_1\n",
            "intel1_1\n",
            "fun1_1\n",
            "amb1_1\n",
            "shar1_1\n",
            "attr4_1\n",
            "sinc4_1\n",
            "intel4_1\n",
            "fun4_1\n",
            "amb4_1\n",
            "shar4_1\n",
            "attr2_1\n",
            "sinc2_1\n",
            "intel2_1\n",
            "fun2_1\n",
            "amb2_1\n",
            "shar2_1\n",
            "attr3_1\n",
            "sinc3_1\n",
            "fun3_1\n",
            "intel3_1\n",
            "amb3_1\n",
            "attr5_1\n",
            "sinc5_1\n",
            "intel5_1\n",
            "fun5_1\n",
            "amb5_1\n",
            "attr\n",
            "sinc\n",
            "intel\n",
            "fun\n",
            "amb\n",
            "shar\n",
            "like\n",
            "prob\n",
            "met\n",
            "match_es\n",
            "attr1_s\n",
            "sinc1_s\n",
            "intel1_s\n",
            "fun1_s\n",
            "amb1_s\n",
            "shar1_s\n",
            "attr3_s\n",
            "sinc3_s\n",
            "intel3_s\n",
            "fun3_s\n",
            "amb3_s\n",
            "satis_2\n",
            "length\n",
            "numdat_2\n",
            "attr7_2\n",
            "sinc7_2\n",
            "intel7_2\n",
            "fun7_2\n",
            "amb7_2\n",
            "shar7_2\n",
            "attr1_2\n",
            "sinc1_2\n",
            "intel1_2\n",
            "fun1_2\n",
            "amb1_2\n",
            "shar1_2\n",
            "attr4_2\n",
            "sinc4_2\n",
            "intel4_2\n",
            "fun4_2\n",
            "amb4_2\n",
            "shar4_2\n",
            "attr2_2\n",
            "sinc2_2\n",
            "intel2_2\n",
            "fun2_2\n",
            "amb2_2\n",
            "shar2_2\n",
            "attr3_2\n",
            "sinc3_2\n",
            "intel3_2\n",
            "fun3_2\n",
            "amb3_2\n",
            "attr5_2\n",
            "sinc5_2\n",
            "intel5_2\n",
            "fun5_2\n",
            "amb5_2\n",
            "you_call\n",
            "them_cal\n",
            "date_3\n",
            "numdat_3\n",
            "num_in_3\n",
            "attr1_3\n",
            "sinc1_3\n",
            "intel1_3\n",
            "fun1_3\n",
            "amb1_3\n",
            "shar1_3\n",
            "attr7_3\n",
            "sinc7_3\n",
            "intel7_3\n",
            "fun7_3\n",
            "amb7_3\n",
            "shar7_3\n",
            "attr4_3\n",
            "sinc4_3\n",
            "intel4_3\n",
            "fun4_3\n",
            "amb4_3\n",
            "shar4_3\n",
            "attr2_3\n",
            "sinc2_3\n",
            "intel2_3\n",
            "fun2_3\n",
            "amb2_3\n",
            "shar2_3\n",
            "attr3_3\n",
            "sinc3_3\n",
            "intel3_3\n",
            "fun3_3\n",
            "amb3_3\n",
            "attr5_3\n",
            "sinc5_3\n",
            "intel5_3\n",
            "fun5_3\n",
            "amb5_3\n"
          ]
        }
      ]
    },
    {
      "cell_type": "markdown",
      "source": [
        "###What is the output?"
      ],
      "metadata": {
        "id": "NAW8zhtAFLu3"
      },
      "id": "NAW8zhtAFLu3"
    },
    {
      "cell_type": "markdown",
      "source": [
        "The output is to predict the probability (0-1, float) that the dating session will lead to a successful match."
      ],
      "metadata": {
        "id": "LItK4rpwbFZg"
      },
      "id": "LItK4rpwbFZg"
    },
    {
      "cell_type": "markdown",
      "source": [
        "###What data mining function is required?"
      ],
      "metadata": {
        "id": "dcQqCrqhFff5"
      },
      "id": "dcQqCrqhFff5"
    },
    {
      "cell_type": "markdown",
      "source": [
        "Load and Clean the data\n",
        "\n",
        "Fill null values\n",
        "\n",
        "Drop useless columns\n",
        "\n",
        "Use Feature selection function\n",
        "\n",
        "Use one hot incoding with categorical data\n",
        "\n",
        "Using pipeline, gridsearch, random search and bayesian search"
      ],
      "metadata": {
        "id": "HH0SEou2bCa-"
      },
      "id": "HH0SEou2bCa-"
    },
    {
      "cell_type": "markdown",
      "source": [
        "###What could be the challenges?"
      ],
      "metadata": {
        "id": "EVpuZNjiFyb8"
      },
      "id": "EVpuZNjiFyb8"
    },
    {
      "cell_type": "markdown",
      "source": [
        "Filling null values and use feature selection function to neglect useless features then select best classifier to meet our expectations with this unbalanced data."
      ],
      "metadata": {
        "id": "qole0i2la_M7"
      },
      "id": "qole0i2la_M7"
    },
    {
      "cell_type": "markdown",
      "source": [
        "###What is the impact?"
      ],
      "metadata": {
        "id": "fjoik2xRFzvT"
      },
      "id": "fjoik2xRFzvT"
    },
    {
      "cell_type": "markdown",
      "source": [
        "The model can predict the probability that the dating session will lead to a successful match based on the profile of two people before they meet actually."
      ],
      "metadata": {
        "id": "Yrr3PtYra8rW"
      },
      "id": "Yrr3PtYra8rW"
    },
    {
      "cell_type": "markdown",
      "source": [
        "###What is an ideal solution?\n"
      ],
      "metadata": {
        "id": "YJa_ktcmF23B"
      },
      "id": "YJa_ktcmF23B"
    },
    {
      "cell_type": "markdown",
      "source": [
        "XGBoost Classifier better than Decision tree. GridSearch, random search and bayesian are very close to each other in score but bayesian search is the best because it doesn't take alot of time like grid search and give us more acurate values than random search."
      ],
      "metadata": {
        "id": "4ny6o9jCa5Ri"
      },
      "id": "4ny6o9jCa5Ri"
    },
    {
      "cell_type": "markdown",
      "source": [
        "###What is the experimental protocol used and how was it carried out?"
      ],
      "metadata": {
        "id": "hsUu-OQcQUbX"
      },
      "id": "hsUu-OQcQUbX"
    },
    {
      "cell_type": "markdown",
      "source": [
        "GridSearch\n",
        ", RandomSearch and Bayesian Search\n",
        "\n",
        "The best one is gridsearch it takes alot of time but it give us best values then bayesian search. As we know bayesian search do trials depend on each other not like random search and that wahat make it better than random and better than grid because it takes random trials but dependency and that makes it doesn't take alot of time."
      ],
      "metadata": {
        "id": "nm8lQgWYa2An"
      },
      "id": "nm8lQgWYa2An"
    },
    {
      "cell_type": "markdown",
      "source": [
        "###What preprocessing steps are used?\n",
        "\n"
      ],
      "metadata": {
        "id": "C3jxaavCQago"
      },
      "id": "C3jxaavCQago"
    },
    {
      "cell_type": "markdown",
      "source": [
        "Fill null values\n",
        "\n",
        "Drop useless festures\n",
        "\n",
        "Use Feature selection function\n",
        "\n",
        "Use one hot incoding with categorical data"
      ],
      "metadata": {
        "id": "Cz7-kcIwaxa5"
      },
      "id": "Cz7-kcIwaxa5"
    },
    {
      "cell_type": "markdown",
      "metadata": {
        "id": "1pzTyhl5zjgb"
      },
      "source": [
        "##Questions"
      ],
      "id": "1pzTyhl5zjgb"
    },
    {
      "cell_type": "markdown",
      "metadata": {
        "id": "2ZKVhCsZznvG"
      },
      "source": [
        "###🌈 Why a simple linear regression model (without any activation function) is not good for classification task, compared to Perceptron/Logistic regression?\n"
      ],
      "id": "2ZKVhCsZznvG"
    },
    {
      "cell_type": "markdown",
      "metadata": {
        "id": "Tsp-FiQwz5Qi"
      },
      "source": [
        "Because Linear regression is predicting continuous values, such as predicting the price of a property. Its prediction output can be any real number.\n",
        "Whereas logistic regression is for classification problems, which predicts a probability range between 0 to 1. Like, predict whether a customer will make a purchase or not."
      ],
      "id": "Tsp-FiQwz5Qi"
    },
    {
      "cell_type": "markdown",
      "metadata": {
        "id": "PF-CSLw70Ccg"
      },
      "source": [
        "###🌈   What's a decision tree and how it is different to a logistic regression model?\n",
        "\n"
      ],
      "id": "PF-CSLw70Ccg"
    },
    {
      "cell_type": "markdown",
      "metadata": {
        "id": "jSVNgx_q0Mi3"
      },
      "source": [
        "Decision tree can deal with classification problems and regression too, it depends on splitting fetures and take decisions depend on them till finish them all and give us the final decision.\n",
        "\n",
        "\n",
        "Dicision tree are more likely to overfit the data and when we have noise it will be big problem but Logistic regression performs better while we have noise in data."
      ],
      "id": "jSVNgx_q0Mi3"
    },
    {
      "cell_type": "markdown",
      "metadata": {
        "id": "ye1876cp0P5i"
      },
      "source": [
        "###🌈What's the difference between grid search and random search?"
      ],
      "id": "ye1876cp0P5i"
    },
    {
      "cell_type": "markdown",
      "metadata": {
        "id": "yOValR0R0YnT"
      },
      "source": [
        "In random search not all values will be tested it takes random values and that make it maybe give us best value or not whereas grid search will give us the best values because all values will be tested.\n",
        "Random search does not take time like grid one.\n",
        "\n",
        "Grid search (global optimal) is expensive when you specify a large search space. Alternatively, random search CV give you local optimal (may be good enough and even more generalizable)"
      ],
      "id": "yOValR0R0YnT"
    },
    {
      "cell_type": "markdown",
      "metadata": {
        "id": "3zOFNqnc0dnn"
      },
      "source": [
        "###🌈What's the difference between bayesian search and random search?"
      ],
      "id": "3zOFNqnc0dnn"
    },
    {
      "cell_type": "markdown",
      "metadata": {
        "id": "xHY4a56u0gsd"
      },
      "source": [
        "Bayesian search uses the results from the previous iteration to decide the next hyperparameter value candidates not like random search random search does not have memory it take random values not depending on any previous thing or coming one.\n",
        "\n",
        "Bayesian methods can find the best hyperparameters in lesser time (in fewer iterations) than both grid search and random search."
      ],
      "id": "xHY4a56u0gsd"
    }
  ],
  "metadata": {
    "colab": {
      "collapsed_sections": [
        "Bs6TZVHap9tr",
        "gAxHWASPvzSB",
        "5HG9bLhFvxO6",
        "xgKW0IZEv6YN",
        "njo0ugm6E04B",
        "1pzTyhl5zjgb"
      ],
      "name": "Dating_match_predict.ipynb",
      "provenance": []
    },
    "kernelspec": {
      "display_name": "Python 3 (ipykernel)",
      "language": "python",
      "name": "python3"
    },
    "language_info": {
      "codemirror_mode": {
        "name": "ipython",
        "version": 3
      },
      "file_extension": ".py",
      "mimetype": "text/x-python",
      "name": "python",
      "nbconvert_exporter": "python",
      "pygments_lexer": "ipython3",
      "version": "3.9.7"
    }
  },
  "nbformat": 4,
  "nbformat_minor": 5
}